{
  "cells": [
    {
      "cell_type": "markdown",
      "metadata": {
        "id": "view-in-github",
        "colab_type": "text"
      },
      "source": [
        "<a href=\"https://colab.research.google.com/github/griley13/earthengine-community/blob/master/An_Introduction_to_Earth_Engine_in_Python.ipynb\" target=\"_parent\"><img src=\"https://colab.research.google.com/assets/colab-badge.svg\" alt=\"Open In Colab\"/></a>"
      ]
    },
    {
      "cell_type": "markdown",
      "metadata": {
        "id": "O-ykSl2kpMDw"
      },
      "source": [
        "# An Introduction to Cloud-Based Geospatial Analysis with Earth Engine and Geemap in colab\n",
        "\n",
        "Self-link: https://goo.gle/ee-dublin-python-notebook\n",
        "\n",
        "**Start by creating a copy of this notebook!**\n",
        "\n",
        "### Background\n",
        "\n",
        "* Earth Engine: <https://earthengine.google.com>\n",
        "* Geemap: <https://geemap.org>\n",
        "\n",
        "### Introduction\n",
        "\n",
        "This notebook is for the [Earth Engine Partner Summit in Dublin](https://sites.google.com/corp/view/earthengine-partner-summit) - July 18 - 20, 2023. It was adapted from a [notebook](https://geemap.org/workshops/SciPy_2023) built for [SciPy 2023](https://www.scipy2023.org/) Conference by Qiusheng Wu and Steve Greenberg. Check out [this link](https://cfp.scipy.org/2023/talk/GQ7PG3/) for more information about the tutorial.\n",
        "\n",
        "### Abstract\n",
        "\n",
        "This tutorial is an introduction to cloud-based geospatial analysis with Earth Engine and the geemap Python package. We will cover the basics of Earth Engine data types and how to visualize, analyze, and export Earth Engine data in a Jupyter environment using geemap. We will also demonstrate how to develop and deploy interactive Earth Engine web apps. Throughout the session, practical examples and hands-on exercises will be provided to enhance learning. The attendees should have a basic understanding of Python and Jupyter Notebooks. Familiarity with Earth science and geospatial datasets is not required, but will be useful.\n",
        "\n",
        "\n",
        "### Prerequisites\n",
        "\n",
        "To use geemap and the Earth Engine Python API, you must [register](https://code.earthengine.google.com/register) for an Earth Engine account and follow the instructions [here](https://docs.google.com/document/d/1ZGSmrNm6_baqd8CHt33kIBWOlvkh-HLr46bODgJN1h0/edit?usp=sharing) to create a Cloud Project. Earth Engine is free for [noncommercial and research use](https://earthengine.google.com/noncommercial). To test whether you can use authenticate the Earth Engine Python API, please run [this notebook](https://colab.research.google.com/github/giswqs/geemap/blob/master/examples/notebooks/geemap_colab.ipynb) on Google Colab.\n",
        "\n",
        "### Prior Python Programming Level of Knowledge Expected\n",
        "\n",
        "The attendees are expected to have a basic understanding of Python and Jupyter Notebook. Familiarity with Earth science and geospatial datasets is not necessary, but it will be helpful.\n",
        "\n",
        "## Introduction to Earth Engine and geemap\n",
        "\n",
        "Earth Engine is free for [noncommercial and research use](https://earthengine.google.com/noncommercial). For more than a decade, Earth Engine has enabled planetary-scale Earth data science and analysis by nonprofit organizations, research scientists, and other impact users.\n",
        "\n",
        "With the launch of Earth Engine for [commercial use](https://earthengine.google.com/commercial), commercial customers will be charged for Earth Engine services. However, Earth Engine will remain free of charge for noncommercial use and research projects. Nonprofit organizations, academic institutions, educators, news media, Indigenous governments, and government researchers are eligible to use Earth Engine free of charge, just as they have done for over a decade.\n",
        "\n",
        "The geemap Python package is built upon the Earth Engine Python API and open-source mapping libraries. It allows Earth Engine users to interactively manipulate, analyze, and visualize geospatial big data in a Jupyter environment. Since its creation in April 2020, geemap has received over 2,700 GitHub stars and is being used by over 900 projects on GitHub.\n",
        "\n"
      ],
      "id": "O-ykSl2kpMDw"
    },
    {
      "cell_type": "code",
      "execution_count": null,
      "metadata": {
        "id": "hN1GcofKpMDy"
      },
      "outputs": [],
      "source": [
        "%pip install geemap[workshop]"
      ],
      "id": "hN1GcofKpMDy"
    },
    {
      "cell_type": "markdown",
      "metadata": {
        "id": "BylxQHoapMDz"
      },
      "source": [
        "### Import libraries"
      ],
      "id": "BylxQHoapMDz"
    },
    {
      "cell_type": "code",
      "execution_count": null,
      "metadata": {
        "id": "6NUwNMbQpMDz"
      },
      "outputs": [],
      "source": [
        "import ee\n",
        "import geemap"
      ],
      "id": "6NUwNMbQpMDz"
    },
    {
      "cell_type": "markdown",
      "metadata": {
        "id": "g8ecglmfpMDz"
      },
      "source": [
        "### Authenticate and initialize Earth Engine\n",
        "\n",
        "You will need to create a [Google Cloud Project](https://console.cloud.google.com/projectcreate) and enable the [Earth Engine API](https://console.cloud.google.com/apis/api/earthengine.googleapis.com) for the project. You can find detailed instructions [here](https://book.geemap.org/chapters/01_introduction.html#earth-engine-authentication)."
      ],
      "id": "g8ecglmfpMDz"
    },
    {
      "cell_type": "code",
      "execution_count": null,
      "metadata": {
        "id": "zyy9r-WvpMDz"
      },
      "outputs": [],
      "source": [
        "geemap.ee_initialize()"
      ],
      "id": "zyy9r-WvpMDz"
    },
    {
      "cell_type": "markdown",
      "metadata": {
        "id": "GYNtQMgCAHXy"
      },
      "source": [
        "## Ensure geemap is working and you are authenticated to Earth Engine"
      ],
      "id": "GYNtQMgCAHXy"
    },
    {
      "cell_type": "code",
      "execution_count": null,
      "metadata": {
        "id": "BoNFqB98xCqD"
      },
      "outputs": [],
      "source": [
        "ee.Image(0).getInfo()"
      ],
      "id": "BoNFqB98xCqD"
    },
    {
      "cell_type": "markdown",
      "metadata": {
        "id": "h2d8RN0-pMDz"
      },
      "source": [
        "## Creating interactive maps\n",
        "\n",
        "Let's create an interactive map using the `ipyleaflet` plotting backend. The [`geemap.Map`](https://geemap.org/geemap/#geemap.geemap.Map) class inherits the [`ipyleaflet.Map`](https://ipyleaflet.readthedocs.io/en/latest/map_and_basemaps/map.html) class. Therefore, you can use the same syntax to create an interactive map as you would with `ipyleaflet.Map`."
      ],
      "id": "h2d8RN0-pMDz"
    },
    {
      "cell_type": "code",
      "execution_count": null,
      "metadata": {
        "id": "XzVGkuh3pMD0"
      },
      "outputs": [],
      "source": [
        "Map = geemap.Map()"
      ],
      "id": "XzVGkuh3pMD0"
    },
    {
      "cell_type": "markdown",
      "metadata": {
        "id": "p57fntcvpMD0"
      },
      "source": [
        "To display it in a Jupyter notebook, simply ask for the object representation:"
      ],
      "id": "p57fntcvpMD0"
    },
    {
      "cell_type": "code",
      "execution_count": null,
      "metadata": {
        "id": "wSkLOlFRytzB"
      },
      "outputs": [],
      "source": [
        "Map"
      ],
      "id": "wSkLOlFRytzB"
    },
    {
      "cell_type": "markdown",
      "metadata": {
        "id": "45Fd_d5EpMD0"
      },
      "source": [
        "To customize the map, you can specify various keyword arguments, such as `center` ([lat, lon]), `zoom`, `width`, and `height`. The default `width` is `100%`, which takes up the entire cell width of the Jupyter notebook. The `height` argument accepts a number or a string. If a number is provided, it represents the height of the map in pixels. If a string is provided, the string must be in the format of a number followed by `px`, e.g., `600px`."
      ],
      "id": "45Fd_d5EpMD0"
    },
    {
      "cell_type": "code",
      "execution_count": null,
      "metadata": {
        "id": "ufmL7aMgpMD0"
      },
      "outputs": [],
      "source": [
        "Map = geemap.Map(center=[53.4, -6.3], zoom=10, height=300)\n",
        "Map"
      ],
      "id": "ufmL7aMgpMD0"
    },
    {
      "cell_type": "markdown",
      "metadata": {
        "id": "Q11kiBNPpMD1"
      },
      "source": [
        "To hide a control, set `control_name` to `False`, e.g., `draw_ctrl=False`."
      ],
      "id": "Q11kiBNPpMD1"
    },
    {
      "cell_type": "code",
      "execution_count": null,
      "metadata": {
        "id": "b3f0-j7RpMD1"
      },
      "outputs": [],
      "source": [
        "Map = geemap.Map(data_ctrl=False, toolbar_ctrl=False, draw_ctrl=False)\n",
        "Map"
      ],
      "id": "b3f0-j7RpMD1"
    },
    {
      "cell_type": "markdown",
      "metadata": {
        "id": "AP1ErIhvpMD1"
      },
      "source": [
        "### Adding basemaps\n",
        "\n",
        "There are several ways to add basemaps to a map. You can specify the basemap to use in the `basemap` keyword argument when creating the map. Alternatively, you can add basemap layers to the map using the `add_basemap` method. Geemap has hundreds of built-in basemaps available that can be easily added to the map with only one line of code.\n",
        "\n",
        "Create a map by specifying the basemap to use as follows. For example, the `HYBRID` basemap represents the Google Satellite Hybrid basemap."
      ],
      "id": "AP1ErIhvpMD1"
    },
    {
      "cell_type": "code",
      "execution_count": null,
      "metadata": {
        "id": "42abVsmDpMD1"
      },
      "outputs": [],
      "source": [
        "Map = geemap.Map(basemap='HYBRID')\n",
        "Map"
      ],
      "id": "42abVsmDpMD1"
    },
    {
      "cell_type": "markdown",
      "metadata": {
        "id": "50dbgAgepMD1"
      },
      "source": [
        "You can add as many basemaps as you like to the map. For example, the following code adds the `OpenTopoMap` basemap to the map above:"
      ],
      "id": "50dbgAgepMD1"
    },
    {
      "cell_type": "code",
      "execution_count": null,
      "metadata": {
        "id": "9VRegJTdpMD1"
      },
      "outputs": [],
      "source": [
        "Map.add_basemap('OpenTopoMap')"
      ],
      "id": "9VRegJTdpMD1"
    },
    {
      "cell_type": "markdown",
      "metadata": {
        "id": "ek58PKA3pMD1"
      },
      "source": [
        "Print out the first 10 basemaps:"
      ],
      "id": "ek58PKA3pMD1"
    },
    {
      "cell_type": "code",
      "execution_count": null,
      "metadata": {
        "id": "XG2te_1QpMD1"
      },
      "outputs": [],
      "source": [
        "basemaps = list(geemap.basemaps.keys())\n",
        "len(geemap.basemaps)"
      ],
      "id": "XG2te_1QpMD1"
    },
    {
      "cell_type": "code",
      "execution_count": null,
      "metadata": {
        "id": "mqddjm7BpMD1"
      },
      "outputs": [],
      "source": [
        "basemaps[:10]"
      ],
      "id": "mqddjm7BpMD1"
    },
    {
      "cell_type": "markdown",
      "metadata": {
        "id": "w68uHCEYpMD1"
      },
      "source": [
        "## Using Earth Engine data\n",
        "\n",
        "### Earth Engine data types (Image, ImageCollection, Geometry, Feature, FeatureCollection)\n",
        "\n",
        "Earth Engine objects are server-side objects rather than client-side objects, which means that they are not stored locally on your computer. Similar to video streaming services (e.g., YouTube, Netflix, and Hulu), which store videos/movies on their servers, Earth Engine data are stored on the Earth Engine servers. We can stream geospatial data from Earth Engine on-the-fly without having to download the data just like we can watch videos from streaming services using a web browser without having to download the entire video to your computer.\n",
        "\n",
        "-   **Image**: the fundamental raster data type in Earth Engine.\n",
        "-   **ImageCollection**: a stack or time-series of images.\n",
        "-   **Geometry**: the fundamental vector data type in Earth Engine.\n",
        "-   **Feature**: a Geometry with attributes.\n",
        "-   **FeatureCollection**: a set of features.\n",
        "\n",
        "### Image\n",
        "\n",
        "Raster data in Earth Engine are represented as **Image** objects. Images are composed of one or more bands and each band has its own name, data type, scale, mask and projection. Each image has metadata stored as a set of properties.\n",
        "\n",
        "#### Loading Earth Engine images"
      ],
      "id": "w68uHCEYpMD1"
    },
    {
      "cell_type": "code",
      "execution_count": null,
      "metadata": {
        "id": "5YeQgugzpMD1"
      },
      "outputs": [],
      "source": [
        "image = ee.Image('USGS/SRTMGL1_003')\n",
        "image"
      ],
      "id": "5YeQgugzpMD1"
    },
    {
      "cell_type": "markdown",
      "metadata": {
        "id": "MXWoVNrvpMD1"
      },
      "source": [
        "#### Visualizing Earth Engine images"
      ],
      "id": "MXWoVNrvpMD1"
    },
    {
      "cell_type": "code",
      "execution_count": null,
      "metadata": {
        "id": "2G0P6q96pMD1"
      },
      "outputs": [],
      "source": [
        "Map = geemap.Map(center=[21.79, 70.87], zoom=3)\n",
        "image = ee.Image('USGS/SRTMGL1_003')\n",
        "vis_params = {\n",
        "    'min': 0,\n",
        "    'max': 6000,\n",
        "    'palette': 'coolwarm',\n",
        "}\n",
        "Map.addLayer(image, vis_params, 'SRTM')\n",
        "Map"
      ],
      "id": "2G0P6q96pMD1"
    },
    {
      "cell_type": "markdown",
      "metadata": {
        "id": "SI_yamBZpMD1"
      },
      "source": [
        "### ImageCollection\n",
        "\n",
        "An `ImageCollection` is a stack or sequence of images. An `ImageCollection` can be loaded by passing an Earth Engine asset ID into the `ImageCollection` constructor. You can find `ImageCollection` IDs in the [Earth Engine Data Catalog](https://developers.google.com/earth-engine/datasets).\n",
        "\n",
        "#### Loading image collections\n",
        "\n",
        "For example, to load the image collection of the [Sentinel-2 surface reflectance](https://developers.google.com/earth-engine/datasets/catalog/COPERNICUS_S2_SR):"
      ],
      "id": "SI_yamBZpMD1"
    },
    {
      "cell_type": "code",
      "execution_count": null,
      "metadata": {
        "id": "52P8MU5WpMD1"
      },
      "outputs": [],
      "source": [
        "collection = ee.ImageCollection('COPERNICUS/S2_SR')"
      ],
      "id": "52P8MU5WpMD1"
    },
    {
      "cell_type": "code",
      "execution_count": null,
      "metadata": {
        "id": "YKtBXjPmwCGd"
      },
      "outputs": [],
      "source": [
        "collection.first()"
      ],
      "id": "YKtBXjPmwCGd"
    },
    {
      "cell_type": "markdown",
      "metadata": {
        "id": "irEz4Mq_pMD1"
      },
      "source": [
        "#### Visualizing image collections\n",
        "\n",
        "To visualize an Earth Engine **ImageCollection**, we need to convert an **ImageCollection** to an **Image** by compositing all the images in the collection to a single image representing, for example, the min, max, median, mean or standard deviation of the images. For example, to create a median value image from a collection, use the `collection.median()` method. Let's create a median image from the Sentinel-2 surface reflectance collection:"
      ],
      "id": "irEz4Mq_pMD1"
    },
    {
      "cell_type": "code",
      "execution_count": null,
      "metadata": {
        "id": "G4MRqpJapMD1"
      },
      "outputs": [],
      "source": [
        "Map = geemap.Map()\n",
        "collection = ee.ImageCollection('COPERNICUS/S2_SR')\n",
        "image = collection.median()\n",
        "\n",
        "vis = {\n",
        "    'min': 0.0,\n",
        "    'max': 3000,\n",
        "    'bands': ['B4', 'B3', 'B2'],\n",
        "}\n",
        "\n",
        "Map.setCenter(83.277, 17.7009, 12)\n",
        "Map.addLayer(image, vis, 'Sentinel-2')\n",
        "Map"
      ],
      "id": "G4MRqpJapMD1"
    },
    {
      "cell_type": "markdown",
      "metadata": {
        "id": "l47AAY6GpMD1"
      },
      "source": [
        "#### Filtering image collections"
      ],
      "id": "l47AAY6GpMD1"
    },
    {
      "cell_type": "code",
      "execution_count": null,
      "metadata": {
        "id": "0MEOnTcApMD1"
      },
      "outputs": [],
      "source": [
        "Map = geemap.Map()\n",
        "collection = (\n",
        "    ee.ImageCollection('COPERNICUS/S2_SR')\n",
        "    .filterDate('2021-01-01', '2022-01-01')\n",
        "    .filter(ee.Filter.lt('CLOUDY_PIXEL_PERCENTAGE', 5))\n",
        ")\n",
        "image = collection.median()\n",
        "\n",
        "vis = {\n",
        "    'min': 0.0,\n",
        "    'max': 3000,\n",
        "    'bands': ['B4', 'B3', 'B2'],\n",
        "}\n",
        "\n",
        "Map.setCenter(83.277, 17.7009, 12)\n",
        "Map.addLayer(image, vis, 'Sentinel-2')\n",
        "Map"
      ],
      "id": "0MEOnTcApMD1"
    },
    {
      "cell_type": "markdown",
      "metadata": {
        "id": "XhGXKInapMD1"
      },
      "source": [
        "### FeatureCollection\n",
        "\n",
        "A **FeatureCollection** is a collection of Features. A FeatureCollection is analogous to a GeoJSON FeatureCollection object, i.e., a collection of features with associated properties/attributes. Data contained in a shapefile can be represented as a FeatureCollection.\n",
        "\n",
        "#### Loading feature collections\n",
        "\n",
        "The [Earth Engine Data Catalog](https://developers.google.com/earth-engine/datasets) hosts a variety of vector datasets (e.g,, US Census data, country boundaries, and more) as feature collections. You can find feature collection IDs by searching the data catalog. For example, to load the [TIGER roads data](https://developers.google.com/earth-engine/datasets/catalog/TIGER_2016_Roads) by the U.S. Census Bureau:"
      ],
      "id": "XhGXKInapMD1"
    },
    {
      "cell_type": "code",
      "execution_count": null,
      "metadata": {
        "id": "pdtKJUJOpMD2"
      },
      "outputs": [],
      "source": [
        "Map = geemap.Map()\n",
        "fc = ee.FeatureCollection('TIGER/2016/Roads')\n",
        "Map.setCenter(-73.9596, 40.7688, 12)\n",
        "Map.addLayer(fc, {}, 'Census roads')\n",
        "Map"
      ],
      "id": "pdtKJUJOpMD2"
    },
    {
      "cell_type": "markdown",
      "metadata": {
        "id": "CEnI3kN4pMD2"
      },
      "source": [
        "#### Filtering feature collections"
      ],
      "id": "CEnI3kN4pMD2"
    },
    {
      "cell_type": "code",
      "execution_count": null,
      "metadata": {
        "id": "_j_I5U1ipMD2"
      },
      "outputs": [],
      "source": [
        "Map = geemap.Map()\n",
        "states = ee.FeatureCollection('TIGER/2018/States')\n",
        "fc = states.filter(ee.Filter.eq('NAME', 'Louisiana'))\n",
        "Map.addLayer(fc, {}, 'Louisiana')\n",
        "Map.centerObject(fc, 7)\n",
        "Map"
      ],
      "id": "_j_I5U1ipMD2"
    },
    {
      "cell_type": "code",
      "execution_count": null,
      "metadata": {
        "id": "kRP8PZQwpMD2"
      },
      "outputs": [],
      "source": [
        "feat = fc.first()\n",
        "feat.toDictionary()"
      ],
      "id": "kRP8PZQwpMD2"
    },
    {
      "cell_type": "code",
      "execution_count": null,
      "metadata": {
        "id": "0SJIuyLPpMD2"
      },
      "outputs": [],
      "source": [
        "Map = geemap.Map()\n",
        "states = ee.FeatureCollection('TIGER/2018/States')\n",
        "fc = states.filter(ee.Filter.inList('NAME', ['California', 'Oregon', 'Washington']))\n",
        "Map.addLayer(fc, {}, 'West Coast')\n",
        "Map.centerObject(fc, 5)\n",
        "Map"
      ],
      "id": "0SJIuyLPpMD2"
    },
    {
      "cell_type": "markdown",
      "metadata": {
        "id": "iDhJwtvoC7BS"
      },
      "source": [
        "Use the drawing tool to select a section of the United States"
      ],
      "id": "iDhJwtvoC7BS"
    },
    {
      "cell_type": "code",
      "execution_count": null,
      "metadata": {
        "id": "DHAbP97wpMD2"
      },
      "outputs": [],
      "source": [
        "region = Map.user_roi\n",
        "if region is None:\n",
        "    region = ee.Geometry.BBox(-88.40, 29.88, -77.90, 35.39)\n",
        "\n",
        "fc = ee.FeatureCollection('TIGER/2018/States').filterBounds(region)\n",
        "Map.addLayer(fc, {}, 'Southeastern U.S.')\n",
        "Map.centerObject(fc, 6)"
      ],
      "id": "DHAbP97wpMD2"
    },
    {
      "cell_type": "markdown",
      "metadata": {
        "id": "SceX0h8mpMD2"
      },
      "source": [
        "#### Visualizing feature collections"
      ],
      "id": "SceX0h8mpMD2"
    },
    {
      "cell_type": "code",
      "execution_count": null,
      "metadata": {
        "id": "jiZIGHgxpMD5"
      },
      "outputs": [],
      "source": [
        "Map = geemap.Map(center=[40, -100], zoom=4)\n",
        "states = ee.FeatureCollection(\"TIGER/2018/States\")\n",
        "Map.addLayer(states, {}, \"US States\")\n",
        "Map"
      ],
      "id": "jiZIGHgxpMD5"
    },
    {
      "cell_type": "code",
      "execution_count": null,
      "metadata": {
        "id": "ppHVkkLEpMD5"
      },
      "outputs": [],
      "source": [
        "Map = geemap.Map(center=[40, -100], zoom=4)\n",
        "states = ee.FeatureCollection(\"TIGER/2018/States\")\n",
        "style = {'color': '0000ffff', 'width': 2, 'lineType': 'solid', 'fillColor': 'FF000080'}\n",
        "Map.addLayer(states.style(**style), {}, \"US States\")\n",
        "Map"
      ],
      "id": "ppHVkkLEpMD5"
    },
    {
      "cell_type": "code",
      "execution_count": null,
      "metadata": {
        "id": "DCiWkJkGpMD5"
      },
      "outputs": [],
      "source": [
        "Map = geemap.Map(center=[40, -100], zoom=4)\n",
        "states = ee.FeatureCollection(\"TIGER/2018/States\")\n",
        "\n",
        "# This approach is documented here - https://developers.google.com/earth-engine/guides/feature_collections_visualizing\n",
        "empty = ee.Image();\n",
        "fills = empty.paint(states, 'ALAND');\n",
        "Map.addLayer(fills, {'palette': ['purple', 'blue', 'green', 'yellow', 'orange', 'red'], 'min': 0, 'max': 1000000000000}, \"States colored by name\")\n",
        "\n",
        "Map"
      ],
      "id": "DCiWkJkGpMD5"
    },
    {
      "cell_type": "markdown",
      "metadata": {
        "id": "1kzlcVrvpMD6"
      },
      "source": [
        "### Exercise 1 - Creating cloud-free imagery\n",
        "\n",
        "Create a cloud-free imagery of Texas for the year of 2022. You can use either Landsat 9 or Sentinel-2 imagery. Relevant Earth Engine assets:\n",
        "- [ee.FeatureCollection(\"TIGER/2018/States\")](https://developers.google.com/earth-engine/datasets/catalog/TIGER_2018_States)\n",
        "- [ee.ImageCollection(\"COPERNICUS/S2_SR\")](https://developers.google.com/earth-engine/datasets/catalog/COPERNICUS_S2_SR)\n",
        "- [ee.ImageCollection(\"LANDSAT/LC09/C02/T1_L2\")](https://developers.google.com/earth-engine/datasets/catalog/LANDSAT_LC09_C02_T1_L2)\n",
        "\n",
        "![](https://i.imgur.com/DNIqGPY.png)"
      ],
      "id": "1kzlcVrvpMD6"
    },
    {
      "cell_type": "markdown",
      "metadata": {
        "id": "k3XEPGnsE_JY"
      },
      "source": [
        "## Analyzing Earth Engine data\n",
        "\n",
        "### Image descriptive statistics\n",
        "\n",
        "Use a sample Landsat image."
      ],
      "id": "k3XEPGnsE_JY"
    },
    {
      "cell_type": "code",
      "execution_count": null,
      "metadata": {
        "id": "kSFUJaVwE_JY"
      },
      "outputs": [],
      "source": [
        "Map = geemap.Map()\n",
        "\n",
        "centroid = ee.Geometry.Point([-122.4439, 37.7538])\n",
        "image = ee.ImageCollection('LANDSAT/LC08/C01/T1_SR').filterBounds(centroid).first()\n",
        "vis = {'min': 0, 'max': 3000, 'bands': ['B5', 'B4', 'B3']}\n",
        "\n",
        "Map.centerObject(centroid, 8)\n",
        "Map.addLayer(image, vis, \"Landsat-8\")\n",
        "Map.addLayer(centroid, {}, 'Centroid')\n",
        "Map"
      ],
      "id": "kSFUJaVwE_JY"
    },
    {
      "cell_type": "markdown",
      "metadata": {
        "id": "vxSRdgeTE_JY"
      },
      "source": [
        "Check image properties."
      ],
      "id": "vxSRdgeTE_JY"
    },
    {
      "cell_type": "code",
      "execution_count": null,
      "metadata": {
        "id": "t0uYpkV8E_JZ"
      },
      "outputs": [],
      "source": [
        "image.propertyNames()"
      ],
      "id": "t0uYpkV8E_JZ"
    },
    {
      "cell_type": "markdown",
      "metadata": {
        "id": "7nPEoKh_E_JZ"
      },
      "source": [
        "Check image property values."
      ],
      "id": "7nPEoKh_E_JZ"
    },
    {
      "cell_type": "code",
      "execution_count": null,
      "metadata": {
        "id": "-1o4KO6RE_JZ"
      },
      "outputs": [],
      "source": [
        "image.toDictionary()"
      ],
      "id": "-1o4KO6RE_JZ"
    },
    {
      "cell_type": "markdown",
      "metadata": {
        "id": "mS5nX3xeE_JZ"
      },
      "source": [
        "Get specific image properties."
      ],
      "id": "mS5nX3xeE_JZ"
    },
    {
      "cell_type": "code",
      "execution_count": null,
      "metadata": {
        "id": "GodXsrDlE_JZ"
      },
      "outputs": [],
      "source": [
        "image.get('CLOUD_COVER')  # 0.05"
      ],
      "id": "GodXsrDlE_JZ"
    },
    {
      "cell_type": "markdown",
      "metadata": {
        "id": "2DgQ56UyE_JZ"
      },
      "source": [
        "Get image properties with easy-to-read time format."
      ],
      "id": "2DgQ56UyE_JZ"
    },
    {
      "cell_type": "code",
      "execution_count": null,
      "metadata": {
        "id": "-kJD3flTE_JZ"
      },
      "outputs": [],
      "source": [
        "props = geemap.image_props(image)\n",
        "props"
      ],
      "id": "-kJD3flTE_JZ"
    },
    {
      "cell_type": "markdown",
      "metadata": {
        "id": "QYSSMjFQE_Ja"
      },
      "source": [
        "Compute image descriptive statistics."
      ],
      "id": "QYSSMjFQE_Ja"
    },
    {
      "cell_type": "code",
      "execution_count": null,
      "metadata": {
        "id": "15Q6Pg7qE_Ja"
      },
      "outputs": [],
      "source": [
        "stats = geemap.image_stats(image, scale=30)\n",
        "stats"
      ],
      "id": "15Q6Pg7qE_Ja"
    },
    {
      "cell_type": "markdown",
      "metadata": {
        "id": "zkBCMrrZE_Ja"
      },
      "source": [
        "### Zonal statistics\n",
        "\n",
        "#### Zonal statistics\n",
        "\n",
        "Add Earth Engine data to the map."
      ],
      "id": "zkBCMrrZE_Ja"
    },
    {
      "cell_type": "code",
      "execution_count": null,
      "metadata": {
        "id": "_uC3BWi4E_Ja"
      },
      "outputs": [],
      "source": [
        "Map = geemap.Map(center=[40, -100], zoom=4)\n",
        "\n",
        "# Add NASA SRTM\n",
        "dem = ee.Image('USGS/SRTMGL1_003')\n",
        "dem_vis = {\n",
        "    'min': 0,\n",
        "    'max': 4000,\n",
        "    'palette': ['006633', 'E5FFCC', '662A00', 'D8D8D8', 'F5F5F5'],\n",
        "}\n",
        "Map.addLayer(dem, dem_vis, 'SRTM DEM')\n",
        "\n",
        "# Add 5-year Landsat TOA composite\n",
        "landsat = ee.Image('LANDSAT/LE7_TOA_5YEAR/1999_2003')\n",
        "landsat_vis = {'bands': ['B4', 'B3', 'B2'], 'gamma': 1.4}\n",
        "Map.addLayer(landsat, landsat_vis, \"Landsat\", False)\n",
        "\n",
        "# Add US Census States\n",
        "states = ee.FeatureCollection(\"TIGER/2018/States\")\n",
        "style = {'fillColor': '00000000'}\n",
        "Map.addLayer(states.style(**style), {}, 'US States')\n",
        "Map"
      ],
      "id": "_uC3BWi4E_Ja"
    },
    {
      "cell_type": "markdown",
      "metadata": {
        "id": "F0OSryRsE_Ja"
      },
      "source": [
        "Compute zonal statistics. In this case, we compute the mean elevation of each state and export the results to a CSV file."
      ],
      "id": "F0OSryRsE_Ja"
    },
    {
      "cell_type": "markdown",
      "metadata": {
        "id": "7v15gS0BE_Jg"
      },
      "source": [
        "### Exercise 2 - Zonal statistics\n",
        "\n",
        "Find out which state has the highest mean temperature on in the United States on June 28, 2023. Relevant Earth Engine assets:\n",
        "\n",
        "- [ee.FeatureCollection(\"TIGER/2018/States\")](https://developers.google.com/earth-engine/datasets/catalog/TIGER_2018_States)\n",
        "- [ee.ImageCollection(\"NOAA/GFS0P25\")](https://developers.google.com/earth-engine/datasets/catalog/NOAA_GFS0P25)\n",
        "\n",
        "![](https://i.imgur.com/GZCHHz3.png)"
      ],
      "id": "7v15gS0BE_Jg"
    },
    {
      "cell_type": "markdown",
      "metadata": {
        "id": "vlku6dXQDpKQ"
      },
      "source": [
        "# Appendix\n",
        "\n",
        "Extra Information from SciPy can be found here - https://geemap.org/workshops/SciPy_2023"
      ],
      "id": "vlku6dXQDpKQ"
    }
  ],
  "metadata": {
    "colab": {
      "provenance": [],
      "include_colab_link": true
    },
    "kernelspec": {
      "display_name": "Python 3 (ipykernel)",
      "language": "python",
      "name": "python3"
    },
    "language_info": {
      "codemirror_mode": {
        "name": "ipython",
        "version": 3
      },
      "file_extension": ".py",
      "mimetype": "text/x-python",
      "name": "python",
      "nbconvert_exporter": "python",
      "pygments_lexer": "ipython3",
      "version": "3.10.12"
    }
  },
  "nbformat": 4,
  "nbformat_minor": 5
}